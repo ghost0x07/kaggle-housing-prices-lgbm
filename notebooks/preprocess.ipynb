{
 "cells": [
  {
   "cell_type": "code",
   "execution_count": 1,
   "metadata": {},
   "outputs": [],
   "source": [
    "%load_ext dotenv\n",
    "%dotenv"
   ]
  },
  {
   "cell_type": "markdown",
   "metadata": {},
   "source": [
    "## Imports"
   ]
  },
  {
   "cell_type": "code",
   "execution_count": 2,
   "metadata": {},
   "outputs": [],
   "source": [
    "import os\n",
    "import pandas as pd"
   ]
  },
  {
   "cell_type": "markdown",
   "metadata": {},
   "source": [
    "## Importing Data"
   ]
  },
  {
   "cell_type": "code",
   "execution_count": 3,
   "metadata": {},
   "outputs": [
    {
     "name": "stdout",
     "output_type": "stream",
     "text": [
      "../data/train.csv ../data/test.csv ../preprocessed/train.csv ../preprocessed/test.csv\n"
     ]
    }
   ],
   "source": [
    "loc_train = os.getenv(\"LOC_TRAIN\")\n",
    "loc_test = os.getenv(\"LOC_TEST\")\n",
    "loc_train_pre = os.getenv(\"LOC_PRE_TRAIN\")\n",
    "loc_test_pre = os.getenv(\"LOC_PRE_TEST\")\n",
    "print(loc_train,loc_test,loc_train_pre,loc_test_pre)"
   ]
  },
  {
   "cell_type": "code",
   "execution_count": 4,
   "metadata": {},
   "outputs": [],
   "source": [
    "df_train = pd.read_csv(loc_train,index_col=[0])\n",
    "df_test = pd.read_csv(loc_test,index_col=[0])"
   ]
  }
 ],
 "metadata": {
  "kernelspec": {
   "display_name": "Python 3.8.10 ('.venv': poetry)",
   "language": "python",
   "name": "python3"
  },
  "language_info": {
   "codemirror_mode": {
    "name": "ipython",
    "version": 3
   },
   "file_extension": ".py",
   "mimetype": "text/x-python",
   "name": "python",
   "nbconvert_exporter": "python",
   "pygments_lexer": "ipython3",
   "version": "3.8.10"
  },
  "orig_nbformat": 4,
  "vscode": {
   "interpreter": {
    "hash": "7c69aa4e63a9557e6bdeec3f9ff140cc0e3edeba6a20d354fe2521196a055b00"
   }
  }
 },
 "nbformat": 4,
 "nbformat_minor": 2
}
